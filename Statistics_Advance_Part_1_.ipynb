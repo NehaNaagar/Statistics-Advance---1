{
  "nbformat": 4,
  "nbformat_minor": 0,
  "metadata": {
    "colab": {
      "provenance": []
    },
    "kernelspec": {
      "name": "python3",
      "display_name": "Python 3"
    },
    "language_info": {
      "name": "python"
    }
  },
  "cells": [
    {
      "cell_type": "markdown",
      "source": [
        "1. What is a random variable in probability theory?\n",
        "\n",
        "- A random variable is a mathematical representation of a variable whose value is determined by chance or randomness. It's a function that assigns a numerical value to each outcome of a random experiment."
      ],
      "metadata": {
        "id": "jLMHDZe5Vw6g"
      }
    },
    {
      "cell_type": "markdown",
      "source": [
        "\n",
        "\n",
        "2. What are the types of random variables?\n",
        "\n",
        "- There are two main types of random variables:\n",
        "\n",
        "\n",
        "a.) Discrete random variables: These can only take on specific, distinct values (e.g., number of heads in a coin toss).\n",
        "\n",
        "b-) Continuous random variables: These can take on any value within a given range or interval (e.g., height or weight).\n"
      ],
      "metadata": {
        "id": "1YkoeJY3Vw-D"
      }
    },
    {
      "cell_type": "markdown",
      "source": [
        "3. What is the difference between discrete and continuous distributions?\n",
        "\n",
        "- Discrete distributions describe the probability of distinct, countable outcomes (e.g., binomial distribution), while continuous distributions describe the probability of any value within a given range (e.g., normal distribution)."
      ],
      "metadata": {
        "id": "BYQpNcirVxBb"
      }
    },
    {
      "cell_type": "markdown",
      "source": [
        "4. What are probability distribution functions (PDF)?\n",
        "\n",
        "- A probability distribution function (PDF) describes the probability of each possible value of a random variable. It assigns a non-negative value to each outcome, and the sum of these values is 1."
      ],
      "metadata": {
        "id": "_fCEQFi6VxF1"
      }
    },
    {
      "cell_type": "markdown",
      "source": [
        "5. How do cumulative distribution functions (CDF) differ from probability distribution functions (PDF)?\n",
        "\n",
        "- A cumulative distribution function (CDF) gives the probability that a random variable takes on a value less than or equal to a given value. In contrast, a PDF gives the probability of a specific value.\n"
      ],
      "metadata": {
        "id": "oHAbK4AwVxI-"
      }
    },
    {
      "cell_type": "markdown",
      "source": [
        "\n",
        "6. What is a discrete uniform distribution?\n",
        "\n",
        "- A discrete uniform distribution is a probability distribution where each possible outcome has an equal probability. For example, rolling a fair die.\n"
      ],
      "metadata": {
        "id": "a3IGOANRVxME"
      }
    },
    {
      "cell_type": "markdown",
      "source": [
        "\n",
        "7. What are the key properties of a Bernoulli distribution?\n",
        "\n",
        "- A Bernoulli distribution models a single trial with two possible outcomes (success or failure). Its key properties include:\n",
        "\n",
        "\n",
        " Two possible outcomes\n",
        "\n",
        " Fixed probability of success\n",
        "\n",
        " Independence of trials\n"
      ],
      "metadata": {
        "id": "7lw1bTzlVxPe"
      }
    },
    {
      "cell_type": "markdown",
      "source": [
        "\n",
        "8. What is the binomial distribution, and how is it used in probability?\n",
        "\n",
        "- The binomial distribution models the number of successes in a fixed number of independent trials, each with a constant probability of success. It's used to calculate probabilities of events like coin tosses or medical trials.\n"
      ],
      "metadata": {
        "id": "3y_SMGohVxS4"
      }
    },
    {
      "cell_type": "markdown",
      "source": [
        "\n",
        "9. What is the Poisson distribution and where is it applied?\n",
        "\n",
        "- The Poisson distribution models the number of events occurring in a fixed interval, where events occur independently and at a constant average rate. It's applied in fields like insurance, finance, and engineering.\n"
      ],
      "metadata": {
        "id": "JZZwSARqVxWS"
      }
    },
    {
      "cell_type": "markdown",
      "source": [
        "\n",
        "10. What is a continuous uniform distribution?\n",
        "\n",
        "- A continuous uniform distribution is a probability distribution where every possible value within a given range has an equal probability. For example, the time of day.\n"
      ],
      "metadata": {
        "id": "OgLH7CSAVxZk"
      }
    },
    {
      "cell_type": "markdown",
      "source": [
        "\n",
        "11. What are the characteristics of a normal distribution?\n",
        "A normal distribution, also known as the Gaussian distribution or bell curve, has the following characteristics:\n",
        "\n",
        "- Symmetric about the mean\n",
        "- Bell-shaped curve\n",
        "- Mean, median, and mode are equal\n"
      ],
      "metadata": {
        "id": "IbXXZ1FpVxdT"
      }
    },
    {
      "cell_type": "markdown",
      "source": [
        "\n",
        "12. What is the standard normal distribution, and why is it important?\n",
        "\n",
        "- The standard normal distribution is a normal distribution with a mean of 0 and a standard deviation of 1. It's important because many statistical tests and models assume normality, and it's used as a reference distribution.\n"
      ],
      "metadata": {
        "id": "wPx8BdobVxgp"
      }
    },
    {
      "cell_type": "markdown",
      "source": [
        "\n",
        "13. What is the Central Limit Theorem (CLT), and why is it critical in statistics?\n",
        "\n",
        "- The Central Limit Theorem states that the distribution of sample means approaches a normal distribution as the sample size increases, even if the population distribution is not normal. This is critical because it allows us to make inferences about populations using sample data.\n"
      ],
      "metadata": {
        "id": "IGYmx2wWVxpV"
      }
    },
    {
      "cell_type": "markdown",
      "source": [
        "\n",
        "14. How does the Central Limit Theorem relate to the normal distribution?\n",
        "\n",
        "- The Central Limit Theorem explains why the normal distribution is so common in statistics: many phenomena can be modeled as the sum of many independent random variables, which leads to a normal distribution.\n"
      ],
      "metadata": {
        "id": "xsIdWiwzafZt"
      }
    },
    {
      "cell_type": "markdown",
      "source": [
        "\n",
        "15. What is the application of Z statistics in hypothesis testing?\n",
        "\n",
        "- Z statistics are used to test hypotheses about population means or proportions. They measure the number of standard deviations an observation is away from the mean.\n"
      ],
      "metadata": {
        "id": "omgZX5-3afcg"
      }
    },
    {
      "cell_type": "markdown",
      "source": [
        "\n",
        "16. How do you calculate a Z-score, and what does it represent?\n",
        "\n",
        "- A Z-score is calculated as (X - μ) / σ, where X is the observation, μ is the mean, and σ is the standard deviation. It represents the number of standard deviations an observation is away from the mean.\n"
      ],
      "metadata": {
        "id": "gg4zVTBtaffM"
      }
    },
    {
      "cell_type": "markdown",
      "source": [
        "\n",
        "17. What are point estimates and interval estimates in statistics?\n",
        "\n",
        "- Point estimates are single values used to estimate a population parameter, while interval estimates provide a range of values within which the parameter is likely to lie.\n"
      ],
      "metadata": {
        "id": "6TFzlHtWafiG"
      }
    },
    {
      "cell_type": "markdown",
      "source": [
        "\n",
        "18. What is the significance of confidence intervals in statistical analysis?\n",
        "\n",
        "- Confidence intervals provide a range of values within which a population parameter is likely to lie. They give us a sense of the precision of our estimates.\n"
      ],
      "metadata": {
        "id": "5gHxPyiYaflb"
      }
    },
    {
      "cell_type": "markdown",
      "source": [
        "19. What is the relationship between a Z-score and a confidence interval?\n",
        "\n",
        "- A Z-score can be used to construct a confidence interval by multiplying it by the standard error and adding/subtracting the result from the sample mean.*italicized text*"
      ],
      "metadata": {
        "id": "6VVSXtB_afo0"
      }
    },
    {
      "cell_type": "markdown",
      "source": [
        "20. How are Z-scores used to compare different distributions?\n",
        "\n",
        "- Z-scores can be used to compare different distributions by standardizing the values. This allows us to compare values from different distributions on a level playing field.\n",
        "\n",
        "For example, if we want to compare the scores of two students from different classes, we can calculate their Z-scores and compare them. The student with the higher Z-score performed better relative to their class.\n"
      ],
      "metadata": {
        "id": "ROHDWFyYb8Nn"
      }
    },
    {
      "cell_type": "markdown",
      "source": [
        "\n",
        "21. What are the assumptions for applying the Central Limit Theorem?\n",
        "\n",
        "- The Central Limit Theorem (CLT) assumes:\n",
        "\n",
        "\n",
        " The sample size is sufficiently large (usually > 30)\n",
        "\n",
        " The observations are independent and identically distributed (i.i.d.)\n",
        "\n",
        " The population distribution has a finite mean and variance\n",
        "\n",
        "If these assumptions are met, the CLT states that the distribution of sample means will be approximately normal.\n"
      ],
      "metadata": {
        "id": "hXlBgrYib8ZX"
      }
    },
    {
      "cell_type": "markdown",
      "source": [
        "22. What is the concept of expected value in a probability distribution?\n",
        "\n",
        "- The expected value (or expectation) of a random variable is the long-run average value it would take on if the experiment were repeated many times.\n",
        "\n",
        "It's calculated by multiplying each possible value by its probability and summing the results.\n"
      ],
      "metadata": {
        "id": "L4zv3mTKb8fA"
      }
    },
    {
      "cell_type": "markdown",
      "source": [
        "23. How does a probability distribution relate to the expected outcome of a random variable?\n",
        "\n",
        "- A probability distribution describes the probability of each possible value of a random variable.\n",
        "\n",
        "The expected value of a random variable is a weighted average of the possible values, where the weights are the probabilities.\n",
        "\n",
        "In other words, the expected value is the average outcome we would expect if we repeated the experiment many times."
      ],
      "metadata": {
        "id": "_a37x8J2b8kI"
      }
    }
  ]
}